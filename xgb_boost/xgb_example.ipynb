{
 "cells": [
  {
   "cell_type": "code",
   "execution_count": 1,
   "metadata": {},
   "outputs": [
    {
     "name": "stdout",
     "output_type": "stream",
     "text": [
      "2.0.0\n"
     ]
    }
   ],
   "source": [
    "import numpy as np\n",
    "print(np.__version__)  # 버전이 2.0 이하인지 확인\n"
   ]
  },
  {
   "cell_type": "code",
   "execution_count": 13,
   "metadata": {},
   "outputs": [],
   "source": [
    "import random\n",
    "import numpy as np \n",
    "import pandas as pd\n",
    "import matplotlib.pyplot as plt\n",
    "from scipy import ndimage\n",
    "import sklearn\n",
    "from sklearn.model_selection import train_test_split\n",
    "import sktime\n",
    "from sktime.datatypes._panel._convert import from_3d_numpy_to_nested\n",
    "from sklearn.metrics import accuracy_score, classification_report\n",
    "\n",
    "from sktime.datatypes._panel._convert import from_2d_array_to_nested\n",
    "\n",
    "from sktime.transformations.panel.rocket import MiniRocket\n",
    "import xgboost as xgb\n",
    "from sklearn.model_selection import GridSearchCV\n",
    "\n",
    "from numba import config\n",
    "\n"
   ]
  },
  {
   "cell_type": "code",
   "execution_count": 3,
   "metadata": {},
   "outputs": [],
   "source": [
    "def maximum(raw, box_size, mode='nearest'): # Maximum Filter\n",
    "    raw_maximum=ndimage.maximum_filter(raw,box_size,mode=mode)\n",
    "    return raw_maximum.real\n",
    "\n",
    "def minimum(raw, box_size, mode='nearest'): # Maximum Filter\n",
    "    raw_minimum=ndimage.minimum_filter(raw,box_size,mode=mode)\n",
    "    return raw_minimum.real\n",
    "\n",
    "def denoise_fft(data, ifftn): # Fast Fourier Transformation\n",
    "    fft_signal = np.fft.fft(data)\n",
    "    \n",
    "    # Reconstruct the original signal\n",
    "    fft_signal[ifftn:len(fft_signal)//2]=0\n",
    "    fft_signal[len(fft_signal)//2:-ifftn]=0\n",
    "    reconstructed_signal = np.fft.ifft(fft_signal)\n",
    "    \n",
    "    return reconstructed_signal.real\n",
    "\n",
    "def smooth(x,beta): # Kaiser Window Smoothing\n",
    "    window_len=11  # extending the data at beginning and at the end to apply the window at the borders\n",
    "\n",
    "    s = np.r_[x[window_len-1:0:-1],x,x[-1:-window_len:-1]]\n",
    "    w = np.kaiser(window_len,beta)\n",
    "    y = np.convolve(w/w.sum(),s,mode='valid')\n",
    "    return y[5:len(y)-5]"
   ]
  },
  {
   "cell_type": "code",
   "execution_count": 16,
   "metadata": {},
   "outputs": [],
   "source": [
    "import joblib\n",
    "\n",
    "# 모델과 인코딩 정보를 불러오는 코드\n",
    "clf = joblib.load('xgb_clf.joblib')  # 저장된 XGBoost 모델 불러오기\n",
    "encd = joblib.load('mnr_encd.joblib')   # 저장된 인코딩 정보 불러오기"
   ]
  },
  {
   "cell_type": "code",
   "execution_count": null,
   "metadata": {},
   "outputs": [],
   "source": [
    "# 모델을 불러온 후 예측을 수행할 수 있습니다.\n",
    "# 예를 들어, 새로운 데이터에 대해 예측:\n",
    "y_pred = clf.predict(X_new)"
   ]
  },
  {
   "cell_type": "code",
   "execution_count": 27,
   "metadata": {},
   "outputs": [],
   "source": [
    "num_list = []\n",
    "time_series = []\n",
    "\n",
    "df = pd.read_csv('data4/rest/rest2.csv', header=None, names=['time', 'a0', 'a1', 'a2', 'a3', 'a4', 'a5'])\n",
    "\n",
    "df['time'] = pd.to_datetime(df['time'])\n",
    "\n",
    "sec = 15\n",
    "while(True):\n",
    "    if sec > 50:\n",
    "        break\n",
    "    \n",
    "    start_time = df['time'].iloc[0] + pd.Timedelta(seconds=sec)\n",
    "    end_time = df['time'].iloc[0] + pd.Timedelta(seconds=sec+0.4)\n",
    "    df_filtered = df[(df['time'] >= start_time) & (df['time'] <= end_time)]\n",
    "\n",
    "    depths_list = []\n",
    "    for i in range(6):\n",
    "        column = f'a{i}'  # 필터링된 데이터의 각 채널 컬럼명\n",
    "        depths = smooth(denoise_fft(maximum(df_filtered[column], 5)-minimum(df_filtered[column], 5), 5), 5)\n",
    "        diff = np.diff(depths)\n",
    "        depths_list.append(depths)\n",
    "        depths_list.append(diff)\n",
    "    df_2d = pd.DataFrame(np.hstack(depths_list))\n",
    "\n",
    "    df_2d_cleaned = df_2d.dropna(axis=1, how='any')\n",
    "\n",
    "    nested = from_2d_array_to_nested(df_2d_cleaned)\n",
    "\n",
    "    # nested = encd.transform(nested)\n",
    "\n",
    "    # result = df_2d_cleaned.to_numpy().flatten()\n",
    "\n",
    "    # print(clf.predict(result))\n",
    "\n",
    "    # num_list.append([model.predict(result)[0], sec, sec+1, np.round(model.predict_proba(result), 3)])\n",
    "\n",
    "    sec+=0.1"
   ]
  },
  {
   "cell_type": "code",
   "execution_count": 46,
   "metadata": {},
   "outputs": [
    {
     "data": {
      "text/html": [
       "<div>\n",
       "<style scoped>\n",
       "    .dataframe tbody tr th:only-of-type {\n",
       "        vertical-align: middle;\n",
       "    }\n",
       "\n",
       "    .dataframe tbody tr th {\n",
       "        vertical-align: top;\n",
       "    }\n",
       "\n",
       "    .dataframe thead th {\n",
       "        text-align: right;\n",
       "    }\n",
       "</style>\n",
       "<table border=\"1\" class=\"dataframe\">\n",
       "  <thead>\n",
       "    <tr style=\"text-align: right;\">\n",
       "      <th></th>\n",
       "      <th>0</th>\n",
       "    </tr>\n",
       "  </thead>\n",
       "  <tbody>\n",
       "    <tr>\n",
       "      <th>0</th>\n",
       "      <td>0.977746</td>\n",
       "    </tr>\n",
       "    <tr>\n",
       "      <th>1</th>\n",
       "      <td>0.977461</td>\n",
       "    </tr>\n",
       "    <tr>\n",
       "      <th>2</th>\n",
       "      <td>0.976700</td>\n",
       "    </tr>\n",
       "    <tr>\n",
       "      <th>3</th>\n",
       "      <td>0.975704</td>\n",
       "    </tr>\n",
       "    <tr>\n",
       "      <th>4</th>\n",
       "      <td>0.974770</td>\n",
       "    </tr>\n",
       "    <tr>\n",
       "      <th>...</th>\n",
       "      <td>...</td>\n",
       "    </tr>\n",
       "    <tr>\n",
       "      <th>2245</th>\n",
       "      <td>-0.016837</td>\n",
       "    </tr>\n",
       "    <tr>\n",
       "      <th>2246</th>\n",
       "      <td>-0.016283</td>\n",
       "    </tr>\n",
       "    <tr>\n",
       "      <th>2247</th>\n",
       "      <td>-0.014426</td>\n",
       "    </tr>\n",
       "    <tr>\n",
       "      <th>2248</th>\n",
       "      <td>-0.010946</td>\n",
       "    </tr>\n",
       "    <tr>\n",
       "      <th>2249</th>\n",
       "      <td>-0.005939</td>\n",
       "    </tr>\n",
       "  </tbody>\n",
       "</table>\n",
       "<p>2250 rows × 1 columns</p>\n",
       "</div>"
      ],
      "text/plain": [
       "             0\n",
       "0     0.977746\n",
       "1     0.977461\n",
       "2     0.976700\n",
       "3     0.975704\n",
       "4     0.974770\n",
       "...        ...\n",
       "2245 -0.016837\n",
       "2246 -0.016283\n",
       "2247 -0.014426\n",
       "2248 -0.010946\n",
       "2249 -0.005939\n",
       "\n",
       "[2250 rows x 1 columns]"
      ]
     },
     "execution_count": 46,
     "metadata": {},
     "output_type": "execute_result"
    }
   ],
   "source": [
    "df_2d_cleaned"
   ]
  },
  {
   "cell_type": "code",
   "execution_count": 56,
   "metadata": {},
   "outputs": [
    {
     "name": "stdout",
     "output_type": "stream",
     "text": [
      "             0         1         2         3         4         5         6  \\\n",
      "0     0.977746  0.977746  0.977746  0.977746  0.977746  0.977746  0.977746   \n",
      "1     0.977461  0.977461  0.977461  0.977461  0.977461  0.977461  0.977461   \n",
      "2     0.976700  0.976700  0.976700  0.976700  0.976700  0.976700  0.976700   \n",
      "3     0.975704  0.975704  0.975704  0.975704  0.975704  0.975704  0.975704   \n",
      "4     0.974770  0.974770  0.974770  0.974770  0.974770  0.974770  0.974770   \n",
      "...        ...       ...       ...       ...       ...       ...       ...   \n",
      "2245 -0.016837 -0.016837 -0.016837 -0.016837 -0.016837 -0.016837 -0.016837   \n",
      "2246 -0.016283 -0.016283 -0.016283 -0.016283 -0.016283 -0.016283 -0.016283   \n",
      "2247 -0.014426 -0.014426 -0.014426 -0.014426 -0.014426 -0.014426 -0.014426   \n",
      "2248 -0.010946 -0.010946 -0.010946 -0.010946 -0.010946 -0.010946 -0.010946   \n",
      "2249 -0.005939 -0.005939 -0.005939 -0.005939 -0.005939 -0.005939 -0.005939   \n",
      "\n",
      "             7         8         9  ...       326       327       328  \\\n",
      "0     0.977746  0.977746  0.977746  ...  0.977746  0.977746  0.977746   \n",
      "1     0.977461  0.977461  0.977461  ...  0.977461  0.977461  0.977461   \n",
      "2     0.976700  0.976700  0.976700  ...  0.976700  0.976700  0.976700   \n",
      "3     0.975704  0.975704  0.975704  ...  0.975704  0.975704  0.975704   \n",
      "4     0.974770  0.974770  0.974770  ...  0.974770  0.974770  0.974770   \n",
      "...        ...       ...       ...  ...       ...       ...       ...   \n",
      "2245 -0.016837 -0.016837 -0.016837  ... -0.016837 -0.016837 -0.016837   \n",
      "2246 -0.016283 -0.016283 -0.016283  ... -0.016283 -0.016283 -0.016283   \n",
      "2247 -0.014426 -0.014426 -0.014426  ... -0.014426 -0.014426 -0.014426   \n",
      "2248 -0.010946 -0.010946 -0.010946  ... -0.010946 -0.010946 -0.010946   \n",
      "2249 -0.005939 -0.005939 -0.005939  ... -0.005939 -0.005939 -0.005939   \n",
      "\n",
      "           329       330       331       332       333       334       335  \n",
      "0     0.977746  0.977746  0.977746  0.977746  0.977746  0.977746  0.977746  \n",
      "1     0.977461  0.977461  0.977461  0.977461  0.977461  0.977461  0.977461  \n",
      "2     0.976700  0.976700  0.976700  0.976700  0.976700  0.976700  0.976700  \n",
      "3     0.975704  0.975704  0.975704  0.975704  0.975704  0.975704  0.975704  \n",
      "4     0.974770  0.974770  0.974770  0.974770  0.974770  0.974770  0.974770  \n",
      "...        ...       ...       ...       ...       ...       ...       ...  \n",
      "2245 -0.016837 -0.016837 -0.016837 -0.016837 -0.016837 -0.016837 -0.016837  \n",
      "2246 -0.016283 -0.016283 -0.016283 -0.016283 -0.016283 -0.016283 -0.016283  \n",
      "2247 -0.014426 -0.014426 -0.014426 -0.014426 -0.014426 -0.014426 -0.014426  \n",
      "2248 -0.010946 -0.010946 -0.010946 -0.010946 -0.010946 -0.010946 -0.010946  \n",
      "2249 -0.005939 -0.005939 -0.005939 -0.005939 -0.005939 -0.005939 -0.005939  \n",
      "\n",
      "[2250 rows x 336 columns]\n"
     ]
    }
   ],
   "source": [
    "df_2d_cleaned\n",
    "repeated_df = pd.concat([df_2d_cleaned[0]] * 336, axis=1)\n",
    "\n",
    "# 2. 새로운 열 이름 설정 (선택 사항)\n",
    "repeated_df.columns = [f'{i-1+1}' for i in range(336)]\n",
    "print(repeated_df)\n",
    "# nested = from_2d_array_to_nested(repeated_df)"
   ]
  },
  {
   "cell_type": "code",
   "execution_count": 52,
   "metadata": {},
   "outputs": [
    {
     "data": {
      "text/html": [
       "<div>\n",
       "<style scoped>\n",
       "    .dataframe tbody tr th:only-of-type {\n",
       "        vertical-align: middle;\n",
       "    }\n",
       "\n",
       "    .dataframe tbody tr th {\n",
       "        vertical-align: top;\n",
       "    }\n",
       "\n",
       "    .dataframe thead th {\n",
       "        text-align: right;\n",
       "    }\n",
       "</style>\n",
       "<table border=\"1\" class=\"dataframe\">\n",
       "  <thead>\n",
       "    <tr style=\"text-align: right;\">\n",
       "      <th></th>\n",
       "      <th>0</th>\n",
       "    </tr>\n",
       "  </thead>\n",
       "  <tbody>\n",
       "    <tr>\n",
       "      <th>0</th>\n",
       "      <td>0      0.977746\n",
       "1      0.977746\n",
       "2      0.97774...</td>\n",
       "    </tr>\n",
       "    <tr>\n",
       "      <th>1</th>\n",
       "      <td>0      0.977461\n",
       "1      0.977461\n",
       "2      0.97746...</td>\n",
       "    </tr>\n",
       "    <tr>\n",
       "      <th>2</th>\n",
       "      <td>0      0.9767\n",
       "1      0.9767\n",
       "2      0.9767\n",
       "3   ...</td>\n",
       "    </tr>\n",
       "    <tr>\n",
       "      <th>3</th>\n",
       "      <td>0      0.975704\n",
       "1      0.975704\n",
       "2      0.97570...</td>\n",
       "    </tr>\n",
       "    <tr>\n",
       "      <th>4</th>\n",
       "      <td>0      0.97477\n",
       "1      0.97477\n",
       "2      0.97477\n",
       "3...</td>\n",
       "    </tr>\n",
       "    <tr>\n",
       "      <th>...</th>\n",
       "      <td>...</td>\n",
       "    </tr>\n",
       "    <tr>\n",
       "      <th>2245</th>\n",
       "      <td>0     -0.016837\n",
       "1     -0.016837\n",
       "2     -0.01683...</td>\n",
       "    </tr>\n",
       "    <tr>\n",
       "      <th>2246</th>\n",
       "      <td>0     -0.016283\n",
       "1     -0.016283\n",
       "2     -0.01628...</td>\n",
       "    </tr>\n",
       "    <tr>\n",
       "      <th>2247</th>\n",
       "      <td>0     -0.014426\n",
       "1     -0.014426\n",
       "2     -0.01442...</td>\n",
       "    </tr>\n",
       "    <tr>\n",
       "      <th>2248</th>\n",
       "      <td>0     -0.010946\n",
       "1     -0.010946\n",
       "2     -0.01094...</td>\n",
       "    </tr>\n",
       "    <tr>\n",
       "      <th>2249</th>\n",
       "      <td>0     -0.005939\n",
       "1     -0.005939\n",
       "2     -0.00593...</td>\n",
       "    </tr>\n",
       "  </tbody>\n",
       "</table>\n",
       "<p>2250 rows × 1 columns</p>\n",
       "</div>"
      ],
      "text/plain": [
       "                                                      0\n",
       "0     0      0.977746\n",
       "1      0.977746\n",
       "2      0.97774...\n",
       "1     0      0.977461\n",
       "1      0.977461\n",
       "2      0.97746...\n",
       "2     0      0.9767\n",
       "1      0.9767\n",
       "2      0.9767\n",
       "3   ...\n",
       "3     0      0.975704\n",
       "1      0.975704\n",
       "2      0.97570...\n",
       "4     0      0.97477\n",
       "1      0.97477\n",
       "2      0.97477\n",
       "3...\n",
       "...                                                 ...\n",
       "2245  0     -0.016837\n",
       "1     -0.016837\n",
       "2     -0.01683...\n",
       "2246  0     -0.016283\n",
       "1     -0.016283\n",
       "2     -0.01628...\n",
       "2247  0     -0.014426\n",
       "1     -0.014426\n",
       "2     -0.01442...\n",
       "2248  0     -0.010946\n",
       "1     -0.010946\n",
       "2     -0.01094...\n",
       "2249  0     -0.005939\n",
       "1     -0.005939\n",
       "2     -0.00593...\n",
       "\n",
       "[2250 rows x 1 columns]"
      ]
     },
     "execution_count": 52,
     "metadata": {},
     "output_type": "execute_result"
    }
   ],
   "source": [
    "nested"
   ]
  },
  {
   "cell_type": "code",
   "execution_count": 51,
   "metadata": {},
   "outputs": [
    {
     "data": {
      "text/plain": [
       "(2250, 1)"
      ]
     },
     "execution_count": 51,
     "metadata": {},
     "output_type": "execute_result"
    }
   ],
   "source": [
    "nested.shape"
   ]
  },
  {
   "cell_type": "code",
   "execution_count": 41,
   "metadata": {},
   "outputs": [
    {
     "name": "stdout",
     "output_type": "stream",
     "text": [
      "(2250, 336, 1)\n"
     ]
    }
   ],
   "source": [
    "nested_expanded = np.tile(nested, (1, 336))\n",
    "nested_expanded = nested_expanded[:, :, np.newaxis]\n",
    "print(nested_expanded.shape)"
   ]
  },
  {
   "cell_type": "code",
   "execution_count": 42,
   "metadata": {},
   "outputs": [
    {
     "ename": "ValueError",
     "evalue": "Indices for islice() must be None or an integer: 0 <= x <= sys.maxsize.",
     "output_type": "error",
     "traceback": [
      "\u001b[1;31m---------------------------------------------------------------------------\u001b[0m",
      "\u001b[1;31mValueError\u001b[0m                                Traceback (most recent call last)",
      "Cell \u001b[1;32mIn[42], line 4\u001b[0m\n\u001b[0;32m      2\u001b[0m nested_expanded \u001b[38;5;241m=\u001b[39m np\u001b[38;5;241m.\u001b[39mtile(nested, (\u001b[38;5;241m1\u001b[39m, \u001b[38;5;241m336\u001b[39m))\n\u001b[0;32m      3\u001b[0m nested_expanded \u001b[38;5;241m=\u001b[39m nested_expanded[:, :, np\u001b[38;5;241m.\u001b[39mnewaxis]\n\u001b[1;32m----> 4\u001b[0m nested1 \u001b[38;5;241m=\u001b[39m \u001b[43mencd\u001b[49m\u001b[38;5;241;43m.\u001b[39;49m\u001b[43mtransform\u001b[49m\u001b[43m(\u001b[49m\u001b[43mnested_expanded\u001b[49m\u001b[43m)\u001b[49m\n",
      "File \u001b[1;32mc:\\Users\\유태원\\Desktop\\myenv\\lib\\site-packages\\sktime\\transformations\\base.py:623\u001b[0m, in \u001b[0;36mBaseTransformer.transform\u001b[1;34m(self, X, y)\u001b[0m\n\u001b[0;32m    621\u001b[0m \u001b[38;5;66;03m# if no vectorization needed, we call _transform directly\u001b[39;00m\n\u001b[0;32m    622\u001b[0m \u001b[38;5;28;01mif\u001b[39;00m \u001b[38;5;129;01mnot\u001b[39;00m vectorization_needed:\n\u001b[1;32m--> 623\u001b[0m     Xt \u001b[38;5;241m=\u001b[39m \u001b[38;5;28;43mself\u001b[39;49m\u001b[38;5;241;43m.\u001b[39;49m\u001b[43m_transform\u001b[49m\u001b[43m(\u001b[49m\u001b[43mX\u001b[49m\u001b[38;5;241;43m=\u001b[39;49m\u001b[43mX_inner\u001b[49m\u001b[43m,\u001b[49m\u001b[43m \u001b[49m\u001b[43my\u001b[49m\u001b[38;5;241;43m=\u001b[39;49m\u001b[43my_inner\u001b[49m\u001b[43m)\u001b[49m\n\u001b[0;32m    624\u001b[0m \u001b[38;5;28;01melse\u001b[39;00m:\n\u001b[0;32m    625\u001b[0m     \u001b[38;5;66;03m# otherwise we call the vectorized version of predict\u001b[39;00m\n\u001b[0;32m    626\u001b[0m     Xt \u001b[38;5;241m=\u001b[39m \u001b[38;5;28mself\u001b[39m\u001b[38;5;241m.\u001b[39m_vectorize(\u001b[38;5;124m\"\u001b[39m\u001b[38;5;124mtransform\u001b[39m\u001b[38;5;124m\"\u001b[39m, X\u001b[38;5;241m=\u001b[39mX_inner, y\u001b[38;5;241m=\u001b[39my_inner)\n",
      "File \u001b[1;32mc:\\Users\\유태원\\Desktop\\myenv\\lib\\site-packages\\sktime\\transformations\\panel\\rocket\\_minirocket.py:163\u001b[0m, in \u001b[0;36mMiniRocket._transform\u001b[1;34m(self, X, y)\u001b[0m\n\u001b[0;32m    159\u001b[0m \u001b[38;5;28;01mfrom\u001b[39;00m \u001b[38;5;21;01mnumba\u001b[39;00m \u001b[38;5;28;01mimport\u001b[39;00m get_num_threads, set_num_threads\n\u001b[0;32m    161\u001b[0m \u001b[38;5;28;01mfrom\u001b[39;00m \u001b[38;5;21;01msktime\u001b[39;00m\u001b[38;5;21;01m.\u001b[39;00m\u001b[38;5;21;01mtransformations\u001b[39;00m\u001b[38;5;21;01m.\u001b[39;00m\u001b[38;5;21;01mpanel\u001b[39;00m\u001b[38;5;21;01m.\u001b[39;00m\u001b[38;5;21;01mrocket\u001b[39;00m\u001b[38;5;21;01m.\u001b[39;00m\u001b[38;5;21;01m_minirocket_numba\u001b[39;00m \u001b[38;5;28;01mimport\u001b[39;00m _transform\n\u001b[1;32m--> 163\u001b[0m X \u001b[38;5;241m=\u001b[39m \u001b[43mX\u001b[49m\u001b[43m[\u001b[49m\u001b[43m:\u001b[49m\u001b[43m,\u001b[49m\u001b[43m \u001b[49m\u001b[38;5;241;43m0\u001b[39;49m\u001b[43m,\u001b[49m\u001b[43m \u001b[49m\u001b[43m:\u001b[49m\u001b[43m]\u001b[49m\u001b[38;5;241m.\u001b[39mastype(np\u001b[38;5;241m.\u001b[39mfloat32)\n\u001b[0;32m    165\u001b[0m \u001b[38;5;66;03m# change n_jobs depended on value and existing cores\u001b[39;00m\n\u001b[0;32m    166\u001b[0m prev_threads \u001b[38;5;241m=\u001b[39m get_num_threads()\n",
      "File \u001b[1;32mc:\\Users\\유태원\\Desktop\\myenv\\lib\\site-packages\\sktime\\datatypes\\_vectorize.py:225\u001b[0m, in \u001b[0;36mVectorizedDF.__getitem__\u001b[1;34m(self, i)\u001b[0m\n\u001b[0;32m    223\u001b[0m \u001b[38;5;28;01mdef\u001b[39;00m \u001b[38;5;21m__getitem__\u001b[39m(\u001b[38;5;28mself\u001b[39m, i: \u001b[38;5;28mint\u001b[39m):\n\u001b[0;32m    224\u001b[0m \u001b[38;5;250m    \u001b[39m\u001b[38;5;124;03m\"\"\"Return the i-th element iterated over in vectorization.\"\"\"\u001b[39;00m\n\u001b[1;32m--> 225\u001b[0m     \u001b[38;5;28;01mreturn\u001b[39;00m \u001b[38;5;28mnext\u001b[39m(\u001b[43mitertools\u001b[49m\u001b[38;5;241;43m.\u001b[39;49m\u001b[43mislice\u001b[49m\u001b[43m(\u001b[49m\u001b[38;5;28;43mself\u001b[39;49m\u001b[43m,\u001b[49m\u001b[43m \u001b[49m\u001b[43mi\u001b[49m\u001b[43m,\u001b[49m\u001b[43m \u001b[49m\u001b[38;5;28;43;01mNone\u001b[39;49;00m\u001b[43m)\u001b[49m)\n",
      "\u001b[1;31mValueError\u001b[0m: Indices for islice() must be None or an integer: 0 <= x <= sys.maxsize."
     ]
    }
   ],
   "source": [
    "nested\n",
    "nested_expanded = np.tile(nested, (1, 336))\n",
    "nested_expanded = nested_expanded[:, :, np.newaxis]\n",
    "nested1 = encd.transform(nested_expanded)"
   ]
  }
 ],
 "metadata": {
  "kernelspec": {
   "display_name": "Python 3",
   "language": "python",
   "name": "python3"
  },
  "language_info": {
   "codemirror_mode": {
    "name": "ipython",
    "version": 3
   },
   "file_extension": ".py",
   "mimetype": "text/x-python",
   "name": "python",
   "nbconvert_exporter": "python",
   "pygments_lexer": "ipython3",
   "version": "3.10.8"
  }
 },
 "nbformat": 4,
 "nbformat_minor": 2
}

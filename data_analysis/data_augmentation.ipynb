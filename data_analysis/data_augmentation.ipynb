{
 "cells": [
  {
   "cell_type": "code",
   "execution_count": 21,
   "metadata": {},
   "outputs": [],
   "source": [
    "import random\n",
    "import numpy as np \n",
    "import pandas as pd\n",
    "import matplotlib.pyplot as plt\n",
    "from scipy import ndimage\n",
    "import sklearn\n",
    "from sklearn.model_selection import train_test_split\n",
    "import sktime\n",
    "from sktime.datatypes._panel._convert import from_3d_numpy_to_nested\n",
    "from catboost import CatBoostClassifier\n",
    "from sklearn.metrics import accuracy_score, classification_report\n",
    "import csv"
   ]
  },
  {
   "cell_type": "code",
   "execution_count": 30,
   "metadata": {},
   "outputs": [],
   "source": [
    "# rock 0~9\n",
    "dl = []\n",
    "dtime_list = []\n",
    "for i in range(10):\n",
    "    dtime_list.append([1, f'data/rock/rock{i}.csv', f'data/new_rock/rock_time{i}.csv'])\n",
    "\n",
    "for num, data, time in dtime_list:\n",
    "    df = pd.read_csv(data, header=None, names=['time', 'a0', 'a1', 'a2', 'a3', 'a4', 'a5'])\n",
    "    dl.append(df)\n",
    "\n",
    "for i in range(3):\n",
    "    dl[0][f'a{i}'], dl[1][f'a{i}'], dl[2][f'a{i}'], dl[3][f'a{i}'], dl[4][f'a{i}'], dl[5][f'a{i}'], dl[6][f'a{i}'], dl[7][f'a{i}'], dl[8][f'a{i}'], dl[9][f'a{i}'] = dl[1][f'a{i}'], dl[2][f'a{i}'], dl[3][f'a{i}'], dl[4][f'a{i}'], dl[5][f'a{i}'], dl[6][f'a{i}'], dl[7][f'a{i}'], dl[8][f'a{i}'], dl[9][f'a{i}'], dl[0][f'a{i}']\n",
    "    dl[0][f'a{i+3}'], dl[1][f'a{i+3}'], dl[2][f'a{i+3}'], dl[3][f'a{i+3}'], dl[4][f'a{i+3}'], dl[5][f'a{i+3}'], dl[6][f'a{i+3}'], dl[7][f'a{i+3}'], dl[8][f'a{i+3}'], dl[9][f'a{i+3}'] = dl[9][f'a{i+3}'], dl[0][f'a{i+3}'], dl[1][f'a{i+3}'], dl[2][f'a{i+3}'], dl[3][f'a{i+3}'], dl[4][f'a{i+3}'], dl[5][f'a{i+3}'], dl[6][f'a{i+3}'], dl[7][f'a{i+3}'], dl[8][f'a{i+3}']\n",
    "\n",
    "for i in range(10):\n",
    "    dl[i].to_csv(f'data/aug_rock/aug_rock{i}.csv', index=False, header=False)"
   ]
  },
  {
   "cell_type": "code",
   "execution_count": 33,
   "metadata": {},
   "outputs": [],
   "source": [
    "# rock 10~19\n",
    "dl = []\n",
    "dtime_list = []\n",
    "for i in range(10):\n",
    "    dtime_list.append([1, f'data/rock/rock{i}.csv', f'data/new_rock/rock_time{i}.csv'])\n",
    "\n",
    "for num, data, time in dtime_list:\n",
    "    df = pd.read_csv(data, header=None, names=['time', 'a0', 'a1', 'a2', 'a3', 'a4', 'a5'])\n",
    "    dl.append(df)\n",
    "\n",
    "for i in range(3):\n",
    "    dl[0][f'a{i}'], dl[1][f'a{i}'], dl[2][f'a{i}'], dl[3][f'a{i}'], dl[4][f'a{i}'], dl[5][f'a{i}'], dl[6][f'a{i}'], dl[7][f'a{i}'], dl[8][f'a{i}'], dl[9][f'a{i}'] = dl[2][f'a{i}'], dl[3][f'a{i}'], dl[4][f'a{i}'], dl[5][f'a{i}'], dl[6][f'a{i}'], dl[7][f'a{i}'], dl[8][f'a{i}'], dl[9][f'a{i}'], dl[0][f'a{i}'], dl[1][f'a{i}']\n",
    "    dl[0][f'a{i+3}'], dl[1][f'a{i+3}'], dl[2][f'a{i+3}'], dl[3][f'a{i+3}'], dl[4][f'a{i+3}'], dl[5][f'a{i+3}'], dl[6][f'a{i+3}'], dl[7][f'a{i+3}'], dl[8][f'a{i+3}'], dl[9][f'a{i+3}'] = dl[8][f'a{i+3}'], dl[9][f'a{i+3}'], dl[0][f'a{i+3}'], dl[1][f'a{i+3}'], dl[2][f'a{i+3}'], dl[3][f'a{i+3}'], dl[4][f'a{i+3}'], dl[5][f'a{i+3}'], dl[6][f'a{i+3}'], dl[7][f'a{i+3}']\n",
    "\n",
    "for i in range(10):\n",
    "    dl[i].to_csv(f'data/aug_rock/aug_rock{10+i}.csv', index=False, header=False)"
   ]
  },
  {
   "cell_type": "code",
   "execution_count": 31,
   "metadata": {},
   "outputs": [],
   "source": [
    "# scissors 0~9\n",
    "dl = []\n",
    "dtime_list = []\n",
    "for i in range(10):\n",
    "    dtime_list.append([1, f'data/scissors/scissors{i}.csv', f'data/new_scissors/scissors_time{i}.csv'])\n",
    "\n",
    "for num, data, time in dtime_list:\n",
    "    df = pd.read_csv(data, header=None, names=['time', 'a0', 'a1', 'a2', 'a3', 'a4', 'a5'])\n",
    "    dl.append(df)\n",
    "\n",
    "for i in range(3):\n",
    "    dl[0][f'a{i}'], dl[1][f'a{i}'], dl[2][f'a{i}'], dl[3][f'a{i}'], dl[4][f'a{i}'], dl[5][f'a{i}'], dl[6][f'a{i}'], dl[7][f'a{i}'], dl[8][f'a{i}'], dl[9][f'a{i}'] = dl[1][f'a{i}'], dl[2][f'a{i}'], dl[3][f'a{i}'], dl[4][f'a{i}'], dl[5][f'a{i}'], dl[6][f'a{i}'], dl[7][f'a{i}'], dl[8][f'a{i}'], dl[9][f'a{i}'], dl[0][f'a{i}']\n",
    "    dl[0][f'a{i+3}'], dl[1][f'a{i+3}'], dl[2][f'a{i+3}'], dl[3][f'a{i+3}'], dl[4][f'a{i+3}'], dl[5][f'a{i+3}'], dl[6][f'a{i+3}'], dl[7][f'a{i+3}'], dl[8][f'a{i+3}'], dl[9][f'a{i+3}'] = dl[9][f'a{i+3}'], dl[0][f'a{i+3}'], dl[1][f'a{i+3}'], dl[2][f'a{i+3}'], dl[3][f'a{i+3}'], dl[4][f'a{i+3}'], dl[5][f'a{i+3}'], dl[6][f'a{i+3}'], dl[7][f'a{i+3}'], dl[8][f'a{i+3}']\n",
    "\n",
    "for i in range(10):\n",
    "    dl[i].to_csv(f'data/aug_scissors/aug_scissors{i}.csv', index=False, header=False)"
   ]
  },
  {
   "cell_type": "code",
   "execution_count": 34,
   "metadata": {},
   "outputs": [],
   "source": [
    "# scissors 10~19\n",
    "dl = []\n",
    "dtime_list = []\n",
    "for i in range(10):\n",
    "    dtime_list.append([1, f'data/scissors/scissors{i}.csv', f'data/new_scissors/scissors_time{i}.csv'])\n",
    "\n",
    "for num, data, time in dtime_list:\n",
    "    df = pd.read_csv(data, header=None, names=['time', 'a0', 'a1', 'a2', 'a3', 'a4', 'a5'])\n",
    "    dl.append(df)\n",
    "\n",
    "for i in range(3):\n",
    "    dl[0][f'a{i}'], dl[1][f'a{i}'], dl[2][f'a{i}'], dl[3][f'a{i}'], dl[4][f'a{i}'], dl[5][f'a{i}'], dl[6][f'a{i}'], dl[7][f'a{i}'], dl[8][f'a{i}'], dl[9][f'a{i}'] = dl[2][f'a{i}'], dl[3][f'a{i}'], dl[4][f'a{i}'], dl[5][f'a{i}'], dl[6][f'a{i}'], dl[7][f'a{i}'], dl[8][f'a{i}'], dl[9][f'a{i}'], dl[0][f'a{i}'], dl[1][f'a{i}']\n",
    "    dl[0][f'a{i+3}'], dl[1][f'a{i+3}'], dl[2][f'a{i+3}'], dl[3][f'a{i+3}'], dl[4][f'a{i+3}'], dl[5][f'a{i+3}'], dl[6][f'a{i+3}'], dl[7][f'a{i+3}'], dl[8][f'a{i+3}'], dl[9][f'a{i+3}'] = dl[8][f'a{i+3}'], dl[9][f'a{i+3}'], dl[0][f'a{i+3}'], dl[1][f'a{i+3}'], dl[2][f'a{i+3}'], dl[3][f'a{i+3}'], dl[4][f'a{i+3}'], dl[5][f'a{i+3}'], dl[6][f'a{i+3}'], dl[7][f'a{i+3}']\n",
    "\n",
    "for i in range(10):\n",
    "    dl[i].to_csv(f'data/aug_scissors/aug_scissors{10+i}.csv', index=False, header=False)"
   ]
  },
  {
   "cell_type": "code",
   "execution_count": 32,
   "metadata": {},
   "outputs": [],
   "source": [
    "# paper 0~9\n",
    "dl = []\n",
    "dtime_list = []\n",
    "for i in range(10):\n",
    "    dtime_list.append([1, f'data/paper/paper{i}.csv', f'data/new_paper/paper_time{i}.csv'])\n",
    "\n",
    "for num, data, time in dtime_list:\n",
    "    df = pd.read_csv(data, header=None, names=['time', 'a0', 'a1', 'a2', 'a3', 'a4', 'a5'])\n",
    "    dl.append(df)\n",
    "\n",
    "for i in range(3):\n",
    "    dl[0][f'a{i}'], dl[1][f'a{i}'], dl[2][f'a{i}'], dl[3][f'a{i}'], dl[4][f'a{i}'], dl[5][f'a{i}'], dl[6][f'a{i}'], dl[7][f'a{i}'], dl[8][f'a{i}'], dl[9][f'a{i}'] = dl[1][f'a{i}'], dl[2][f'a{i}'], dl[3][f'a{i}'], dl[4][f'a{i}'], dl[5][f'a{i}'], dl[6][f'a{i}'], dl[7][f'a{i}'], dl[8][f'a{i}'], dl[9][f'a{i}'], dl[0][f'a{i}']\n",
    "    dl[0][f'a{i+3}'], dl[1][f'a{i+3}'], dl[2][f'a{i+3}'], dl[3][f'a{i+3}'], dl[4][f'a{i+3}'], dl[5][f'a{i+3}'], dl[6][f'a{i+3}'], dl[7][f'a{i+3}'], dl[8][f'a{i+3}'], dl[9][f'a{i+3}'] = dl[9][f'a{i+3}'], dl[0][f'a{i+3}'], dl[1][f'a{i+3}'], dl[2][f'a{i+3}'], dl[3][f'a{i+3}'], dl[4][f'a{i+3}'], dl[5][f'a{i+3}'], dl[6][f'a{i+3}'], dl[7][f'a{i+3}'], dl[8][f'a{i+3}']\n",
    "\n",
    "for i in range(10):\n",
    "    dl[i].to_csv(f'data/aug_paper/aug_paper{i}.csv', index=False, header=False)"
   ]
  },
  {
   "cell_type": "code",
   "execution_count": 35,
   "metadata": {},
   "outputs": [],
   "source": [
    "# paper 10~19\n",
    "dl = []\n",
    "dtime_list = []\n",
    "for i in range(10):\n",
    "    dtime_list.append([1, f'data/paper/paper{i}.csv', f'data/new_paper/paper_time{i}.csv'])\n",
    "\n",
    "for num, data, time in dtime_list:\n",
    "    df = pd.read_csv(data, header=None, names=['time', 'a0', 'a1', 'a2', 'a3', 'a4', 'a5'])\n",
    "    dl.append(df)\n",
    "\n",
    "for i in range(3):\n",
    "    dl[0][f'a{i}'], dl[1][f'a{i}'], dl[2][f'a{i}'], dl[3][f'a{i}'], dl[4][f'a{i}'], dl[5][f'a{i}'], dl[6][f'a{i}'], dl[7][f'a{i}'], dl[8][f'a{i}'], dl[9][f'a{i}'] = dl[2][f'a{i}'], dl[3][f'a{i}'], dl[4][f'a{i}'], dl[5][f'a{i}'], dl[6][f'a{i}'], dl[7][f'a{i}'], dl[8][f'a{i}'], dl[9][f'a{i}'], dl[0][f'a{i}'], dl[1][f'a{i}']\n",
    "    dl[0][f'a{i+3}'], dl[1][f'a{i+3}'], dl[2][f'a{i+3}'], dl[3][f'a{i+3}'], dl[4][f'a{i+3}'], dl[5][f'a{i+3}'], dl[6][f'a{i+3}'], dl[7][f'a{i+3}'], dl[8][f'a{i+3}'], dl[9][f'a{i+3}'] = dl[8][f'a{i+3}'], dl[9][f'a{i+3}'], dl[0][f'a{i+3}'], dl[1][f'a{i+3}'], dl[2][f'a{i+3}'], dl[3][f'a{i+3}'], dl[4][f'a{i+3}'], dl[5][f'a{i+3}'], dl[6][f'a{i+3}'], dl[7][f'a{i+3}']\n",
    "\n",
    "for i in range(10):\n",
    "    dl[i].to_csv(f'data/aug_paper/aug_paper{10+i}.csv', index=False, header=False)"
   ]
  }
 ],
 "metadata": {
  "kernelspec": {
   "display_name": "Python 3",
   "language": "python",
   "name": "python3"
  },
  "language_info": {
   "codemirror_mode": {
    "name": "ipython",
    "version": 3
   },
   "file_extension": ".py",
   "mimetype": "text/x-python",
   "name": "python",
   "nbconvert_exporter": "python",
   "pygments_lexer": "ipython3",
   "version": "3.12.5"
  }
 },
 "nbformat": 4,
 "nbformat_minor": 2
}

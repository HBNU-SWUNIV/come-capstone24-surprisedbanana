{
 "cells": [
  {
   "cell_type": "code",
   "execution_count": 2,
   "metadata": {},
   "outputs": [],
   "source": [
    "import random\n",
    "import numpy as np \n",
    "import pandas as pd\n",
    "import matplotlib.pyplot as plt\n",
    "from scipy import ndimage\n",
    "import sklearn\n",
    "from sklearn.model_selection import train_test_split\n",
    "import sktime\n",
    "from sktime.datatypes._panel._convert import from_3d_numpy_to_nested\n",
    "from catboost import CatBoostClassifier\n",
    "from sklearn.metrics import accuracy_score, classification_report\n",
    "import csv"
   ]
  },
  {
   "cell_type": "code",
   "execution_count": 3,
   "metadata": {},
   "outputs": [],
   "source": [
    "# aug_rock 0~4\n",
    "dl = []\n",
    "dtime_list = []\n",
    "for i in range(5):\n",
    "    dtime_list.append([1, f'data2/rock/rock{i}.csv', f'data2/new_rock/rock_time{i}.csv'])\n",
    "\n",
    "for num, data, time in dtime_list:\n",
    "    df = pd.read_csv(data, header=None, names=['time', 'a0', 'a1', 'a2', 'a3', 'a4', 'a5'])\n",
    "    dl.append(df)\n",
    "\n",
    "for i in range(3):\n",
    "    dl[0][f'a{i}'], dl[1][f'a{i}'], dl[2][f'a{i}'], dl[3][f'a{i}'], dl[4][f'a{i}'] = dl[1][f'a{i}'], dl[2][f'a{i}'], dl[3][f'a{i}'], dl[4][f'a{i}'], dl[0][f'a{i}']\n",
    "    dl[0][f'a{i+3}'], dl[1][f'a{i+3}'], dl[2][f'a{i+3}'], dl[3][f'a{i+3}'], dl[4][f'a{i+3}'] = dl[4][f'a{i+3}'], dl[0][f'a{i+3}'], dl[1][f'a{i+3}'], dl[2][f'a{i+3}'], dl[3][f'a{i+3}']\n",
    "\n",
    "for i in range(5):\n",
    "    dl[i].to_csv(f'data2/aug_rock/aug_rock{i}.csv', index=False, header=False)"
   ]
  },
  {
   "cell_type": "code",
   "execution_count": 6,
   "metadata": {},
   "outputs": [],
   "source": [
    "# aug_rock 5~9\n",
    "dl = []\n",
    "dtime_list = []\n",
    "for i in range(5):\n",
    "    dtime_list.append([1, f'data2/rock/rock{i}.csv', f'data2/new_rock/rock_time{i}.csv'])\n",
    "\n",
    "for num, data, time in dtime_list:\n",
    "    df = pd.read_csv(data, header=None, names=['time', 'a0', 'a1', 'a2', 'a3', 'a4', 'a5'])\n",
    "    dl.append(df)\n",
    "\n",
    "for i in range(3):\n",
    "    dl[0][f'a{i}'], dl[1][f'a{i}'], dl[2][f'a{i}'], dl[3][f'a{i}'], dl[4][f'a{i}'] = dl[2][f'a{i}'], dl[3][f'a{i}'], dl[4][f'a{i}'], dl[0][f'a{i}'], dl[1][f'a{i}']\n",
    "    dl[0][f'a{i+3}'], dl[1][f'a{i+3}'], dl[2][f'a{i+3}'], dl[3][f'a{i+3}'], dl[4][f'a{i+3}'] = dl[3][f'a{i+3}'], dl[4][f'a{i+3}'], dl[0][f'a{i+3}'], dl[1][f'a{i+3}'], dl[2][f'a{i+3}']\n",
    "\n",
    "for i in range(5):\n",
    "    dl[i].to_csv(f'data2/aug_rock/aug_rock{i+5}.csv', index=False, header=False)"
   ]
  },
  {
   "cell_type": "code",
   "execution_count": 6,
   "metadata": {},
   "outputs": [],
   "source": [
    "# scissors 0~2\n",
    "dl = []\n",
    "dtime_list = []\n",
    "for i in range(0,3):\n",
    "    dtime_list.append([1, f'data3/scissors/scissors{i}.csv'])\n",
    "\n",
    "for num, data in dtime_list:\n",
    "    df = pd.read_csv(data, header=None, names=['time', 'a0', 'a1', 'a2', 'a3', 'a4', 'a5'])\n",
    "    dl.append(df)\n",
    "\n",
    "for i in range(3):\n",
    "    dl[0][f'a{i}'], dl[1][f'a{i}'], dl[2][f'a{i}'] = dl[1][f'a{i}'], dl[2][f'a{i}'], dl[0][f'a{i}']\n",
    "    dl[0][f'a{i+3}'], dl[1][f'a{i+3}'], dl[2][f'a{i+3}'] = dl[2][f'a{i+3}'], dl[0][f'a{i+3}'], dl[1][f'a{i+3}']\n",
    "\n",
    "for i in range(3):\n",
    "    dl[i].to_csv(f'data3/aug_scissors/aug_scissors{i}.csv', index=False, header=False)"
   ]
  },
  {
   "cell_type": "code",
   "execution_count": 11,
   "metadata": {},
   "outputs": [],
   "source": [
    "# aug_scissors 3~5\n",
    "dl = []\n",
    "dtime_list = []\n",
    "for i in range(5,8):\n",
    "    dtime_list.append([1, f'data2/scissors/scissors{i}.csv', f'data2/new_scissors/scissors_time{i}.csv'])\n",
    "\n",
    "for num, data, time in dtime_list:\n",
    "    df = pd.read_csv(data, header=None, names=['time', 'a0', 'a1', 'a2', 'a3', 'a4', 'a5'])\n",
    "    dl.append(df)\n",
    "\n",
    "for i in range(3):\n",
    "    dl[0][f'a{i}'], dl[1][f'a{i}'], dl[2][f'a{i}'] = dl[2][f'a{i}'], dl[0][f'a{i}'], dl[1][f'a{i}']\n",
    "    dl[0][f'a{i+3}'], dl[1][f'a{i+3}'], dl[2][f'a{i+3}'] = dl[1][f'a{i+3}'], dl[2][f'a{i+3}'], dl[0][f'a{i+3}']\n",
    "for i in range(3):\n",
    "    dl[i].to_csv(f'data2/aug_scissors/aug_scissors{i+3}.csv', index=False, header=False)"
   ]
  },
  {
   "cell_type": "code",
   "execution_count": 9,
   "metadata": {},
   "outputs": [],
   "source": [
    "# paper 0~4\n",
    "dl = []\n",
    "dtime_list = []\n",
    "for i in range(0,5):\n",
    "    dtime_list.append([1, f'data3/paper/paper{i}.csv'])\n",
    "\n",
    "for num, data in dtime_list:\n",
    "    df = pd.read_csv(data, header=None, names=['time', 'a0', 'a1', 'a2', 'a3', 'a4', 'a5'])\n",
    "    dl.append(df)\n",
    "\n",
    "for i in range(3):\n",
    "    dl[0][f'a{i}'], dl[1][f'a{i}'], dl[2][f'a{i}'], dl[3][f'a{i}'], dl[4][f'a{i}'] = dl[1][f'a{i}'], dl[2][f'a{i}'], dl[3][f'a{i}'], dl[4][f'a{i}'], dl[0][f'a{i}']\n",
    "    dl[0][f'a{i+3}'], dl[1][f'a{i+3}'], dl[2][f'a{i+3}'], dl[3][f'a{i+3}'], dl[4][f'a{i+3}'] = dl[4][f'a{i+3}'], dl[0][f'a{i+3}'], dl[1][f'a{i+3}'], dl[2][f'a{i+3}'], dl[3][f'a{i+3}']\n",
    "\n",
    "for i in range(0,5):\n",
    "    dl[i].to_csv(f'data3/aug_paper/aug_paper{i}.csv', index=False, header=False)"
   ]
  },
  {
   "cell_type": "code",
   "execution_count": 8,
   "metadata": {},
   "outputs": [],
   "source": [
    "# aug_paper 5~9\n",
    "dl = []\n",
    "dtime_list = []\n",
    "for i in range(5):\n",
    "    dtime_list.append([1, f'data2/paper/paper{i}.csv', f'data2/new_paper/paper_time{i}.csv'])\n",
    "\n",
    "for num, data, time in dtime_list:\n",
    "    df = pd.read_csv(data, header=None, names=['time', 'a0', 'a1', 'a2', 'a3', 'a4', 'a5'])\n",
    "    dl.append(df)\n",
    "\n",
    "for i in range(3):\n",
    "    dl[0][f'a{i}'], dl[1][f'a{i}'], dl[2][f'a{i}'], dl[3][f'a{i}'], dl[4][f'a{i}'] = dl[2][f'a{i}'], dl[3][f'a{i}'], dl[4][f'a{i}'], dl[0][f'a{i}'], dl[1][f'a{i}']\n",
    "    dl[0][f'a{i+3}'], dl[1][f'a{i+3}'], dl[2][f'a{i+3}'], dl[3][f'a{i+3}'], dl[4][f'a{i+3}'] = dl[3][f'a{i+3}'], dl[4][f'a{i+3}'], dl[0][f'a{i+3}'], dl[1][f'a{i+3}'], dl[2][f'a{i+3}']\n",
    "\n",
    "for i in range(5):\n",
    "    dl[i].to_csv(f'data2/aug_paper/aug_paper{i+5}.csv', index=False, header=False)"
   ]
  }
 ],
 "metadata": {
  "kernelspec": {
   "display_name": "Python 3",
   "language": "python",
   "name": "python3"
  },
  "language_info": {
   "codemirror_mode": {
    "name": "ipython",
    "version": 3
   },
   "file_extension": ".py",
   "mimetype": "text/x-python",
   "name": "python",
   "nbconvert_exporter": "python",
   "pygments_lexer": "ipython3",
   "version": "3.12.7"
  }
 },
 "nbformat": 4,
 "nbformat_minor": 2
}
